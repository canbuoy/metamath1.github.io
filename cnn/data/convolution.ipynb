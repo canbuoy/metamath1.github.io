{
 "cells": [
  {
   "cell_type": "code",
   "execution_count": 51,
   "metadata": {
    "collapsed": false
   },
   "outputs": [
    {
     "name": "stdout",
     "output_type": "stream",
     "text": [
      "F : F로 부터 추출된 값 9개\n",
      "[[ 0.20787958  0.30786397  0.45593813]\n",
      " [ 0.67523191  1.          1.48097267]\n",
      " [ 2.19328005  3.24818781  4.81047738]]\n",
      "\n",
      "G : tau에 -를 곱하여 수학적으로 함수를 뒤집고 t만큼 시프트 시킨 G로 부터 추출된 값 9개\n",
      "[[ 5.87553034  3.96734555  2.6788783 ]\n",
      " [ 1.8088641   1.22140276  0.82473011]\n",
      " [ 0.55688409  0.3760259   0.25390469]]\n",
      "\n",
      "이제 함수에 -를 곱해서 뒤집는 것 대신 값을 뽑아낸 상태에서 -를 곱해서 뒤집는것과\n",
      "같은 효과를 내보겠음\n",
      "H : F를 뒤집지는 않고 F함수에서 t만큼 시프트 시킨 함수의 값 9개\n",
      "[[ 0.25390469  0.3760259   0.55688409]\n",
      " [ 0.82473011  1.22140276  1.8088641 ]\n",
      " [ 2.6788783   3.96734555  5.87553034]]\n",
      "\n",
      "J : H를 rot180시켜서 함수에 -를 곱해서 뒤집는것과 같은 효과를 냄\n",
      "[[ 5.87553034  3.96734555  2.6788783 ]\n",
      " [ 1.8088641   1.22140276  0.82473011]\n",
      " [ 0.55688409  0.3760259   0.25390469]]\n",
      "\n",
      "J와 G는 똑같음. 즉, 컨벌루션은 F와 J 또는 G를 다 곱해서 싹 더하는것\n"
     ]
    },
    {
     "data": {
      "image/png": "[encoded data removed]",
      "text/plain": [
       "<matplotlib.figure.Figure at 0x8b67f60>"
      ]
     },
     "metadata": {},
     "output_type": "display_data"
    },
    {
     "name": "stdout",
     "output_type": "stream",
     "text": [
      "convolution(F, G) value = 10.99262482344153\n",
      "convolution(F, J) value = 10.992624823441528\n",
      "위 두 결과는 같다. 따라서 행렬을 180도 돌리는 것은 수학적으로 함수에 -곱해서 뒤집는것과 동치다\n"
     ]
    }
   ],
   "source": [
    "import numpy as np\n",
    "import matplotlib.pyplot as plt\n",
    "\n",
    "tau = np.linspace(-np.pi/2, np.pi/2, 9, endpoint=True)\n",
    "tau_33 = tau.reshape((3,3))\n",
    "#print(tau2)\n",
    "\n",
    "\n",
    "t = 0.2 # F*G(0.4) 의 값을 구하자.\n",
    "F = np.exp(tau)\n",
    "F_33 = np.exp(tau_33)\n",
    "print('F : F로 부터 추출된 값 9개')\n",
    "print(F_33)\n",
    "\n",
    "print('')\n",
    "\n",
    "print('G : tau에 -를 곱하여 수학적으로 함수를 뒤집고 t만큼 시프트 시킨 G로 부터 추출된 값 9개')\n",
    "G = np.exp(-tau + t) #tau에  -를 곱해서 이미 뒤집었음\n",
    "G_33 = np.exp(-tau_33 + t)\n",
    "print(G_33) #이렇게 함수에 -를 곱해서 뒤집어서 값을 추출해내면\n",
    "\n",
    "print('')\n",
    "\n",
    "print('이제 함수에 -를 곱해서 뒤집는 것 대신 값을 뽑아낸 상태에서 -를 곱해서 뒤집는것과')\n",
    "print('같은 효과를 내보겠음')\n",
    "\n",
    "print('H : F를 뒤집지는 않고 F함수에서 t만큼 시프트 시킨 함수의 값 9개')\n",
    "H = np.exp(tau+t)\n",
    "H_33 = np.exp(tau_33+t)\n",
    "print(H_33)\n",
    "\n",
    "print('')\n",
    "print('J : H를 rot180시켜서 함수에 -를 곱해서 뒤집는것과 같은 효과를 냄')\n",
    "J_33 = np.rot90(H_33,2)\n",
    "print(J_33)\n",
    "\n",
    "print('')\n",
    "\n",
    "print('J와 G는 똑같음. 즉, 컨벌루션은 F와 J 또는 G를 다 곱해서 싹 더하는것')\n",
    "\n",
    "#두 결과는 같다.\n",
    "#(f*g)(t) = ∫-∞~∞ f(𝛕)g(t-𝛕)d𝛕\n",
    "#(f*g)(m) = 𝚺 f(n)g(m-n)\n",
    "conv_FG = sum(F*G) #F, G는 일차원 어레이라 그냥 곱하고 다 더하면 됨\n",
    "conv_FJ = np.multiply(F_33, J_33).sum() #F_33, J_33은 3x3행렬이라 그냥 곱하면 행렬곱이 되버림 그래서 multiply함\n",
    "\n",
    "\n",
    "plt.plot(tau,F, '-')\n",
    "plt.plot(tau,G, '--')\n",
    "plt.show()\n",
    "\n",
    "print('convolution(F, G) value = {0}'.format(conv_FG))\n",
    "print('convolution(F, J) value = {0}'.format(conv_FJ))\n",
    "\n",
    "print('위 두 결과는 같다. 따라서 행렬을 180도 돌리는 것은 수학적으로 함수에 -곱해서 뒤집는것과 동치다')\n",
    "\n"
   ]
  },
  {
   "cell_type": "code",
   "execution_count": null,
   "metadata": {
    "collapsed": true
   },
   "outputs": [],
   "source": []
  }
 ],
 "metadata": {
  "kernelspec": {
   "display_name": "Python 3",
   "language": "python",
   "name": "python3"
  },
  "language_info": {
   "codemirror_mode": {
    "name": "ipython",
    "version": 3
   },
   "file_extension": ".py",
   "mimetype": "text/x-python",
   "name": "python",
   "nbconvert_exporter": "python",
   "pygments_lexer": "ipython3",
   "version": "3.5.1"
  }
 },
 "nbformat": 4,
 "nbformat_minor": 1
}
